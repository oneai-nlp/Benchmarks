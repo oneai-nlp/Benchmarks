{
 "cells": [
  {
   "cell_type": "code",
   "execution_count": null,
   "id": "a8dce493",
   "metadata": {},
   "outputs": [],
   "source": [
    "import oneai\n",
    "import pandas as pd\n",
    "import os  \n",
    "from transformers import pipeline\n",
    "import requests\n",
    "import json\n",
    "from transformers import pipeline\n",
    "from sklearn.metrics import precision_score,f1_score,recall_score\n",
    "import numpy as np"
   ]
  },
  {
   "cell_type": "code",
   "execution_count": null,
   "id": "c32374d8",
   "metadata": {},
   "outputs": [],
   "source": [
    "emotions_cut = pd.read_csv(r\"EmotionsGo_OneAI_v1.2.csv\",encoding=\"utf8\")"
   ]
  },
  {
   "cell_type": "code",
   "execution_count": null,
   "id": "e8691c61",
   "metadata": {},
   "outputs": [],
   "source": [
    "oneai.api_key = \"[Enter API KEY from oneai.com]\"\n",
    "classifier1 = pipeline(\"text-classification\", model=\"j-hartmann/emotion-english-distilroberta-base\", return_all_scores=True)\n",
    "classifier2 = pipeline(\"text-classification\",model='bhadresh-savani/distilbert-base-uncased-emotion', return_all_scores=True)\n",
    "\n",
    "def oneai_res(row):\n",
    "    text = row['text']\n",
    "    pipeline = oneai.Pipeline(\n",
    "    steps=[\n",
    "    oneai.skills.Emotions()\n",
    "    ]\n",
    "  )\n",
    "    res = pipeline.run(text)\n",
    "    res = res.Emotions.names\n",
    "    return(res)\n",
    "\n",
    "def huggingface_res1(row):\n",
    "    text = row['text']\n",
    "    res = classifier1(text)\n",
    "    return(get_max_label(res))\n",
    "\n",
    "def huggingface_res2(row):\n",
    "    text = row['text']\n",
    "    res = classifier2(text)\n",
    "    return(get_max_label_with_neutral(res))\n",
    "\n",
    "def get_max_label(res):\n",
    "    tmp = max([i['score'] for i in res[0]])\n",
    "    index = [i['score'] for i in res[0]].index(tmp)\n",
    "    label = [i['label'] for i in res[0]][index]\n",
    "    return label\n",
    "\n",
    "def get_max_label_with_neutral(res):\n",
    "    tmp = max([i['score'] for i in res[0]])\n",
    "    if tmp>0.8 :\n",
    "        index = [i['score'] for i in res[0]].index(tmp)\n",
    "        label = [i['label'] for i in res[0]][index]\n",
    "    else:\n",
    "        label = 'neutral'\n",
    "    return label"
   ]
  },
  {
   "cell_type": "code",
   "execution_count": null,
   "id": "043623c7",
   "metadata": {},
   "outputs": [],
   "source": [
    "emotions_cut_part1 = emotions_cut[:1000]\n",
    "emotions_cut_part1['oneai_res-res'] = emotions_cut_part1.apply(oneai_res,axis=1)\n",
    "emotions_cut_part1['hug1_res'] = emotions_cut_part1.apply(huggingface_res1,axis=1)\n",
    "emotions_cut_part1['hug2_res'] = emotions_cut_part1.apply(huggingface_res2,axis=1)\n",
    "emotions_cut_part1"
   ]
  },
  {
   "cell_type": "code",
   "execution_count": null,
   "id": "b70a8a49",
   "metadata": {},
   "outputs": [],
   "source": [
    "emotions_cut_part2 = emotions_cut[1000:4000]\n",
    "emotions_cut_part2['oneai_res-res'] = emotions_cut_part2.apply(oneai_res,axis=1)\n",
    "emotions_cut_part2['hug1_res'] = emotions_cut_part2.apply(huggingface_res1,axis=1)\n",
    "emotions_cut_part2['hug2_res'] = emotions_cut_part2.apply(huggingface_res2,axis=1)\n",
    "emotions_cut_part2"
   ]
  },
  {
   "cell_type": "code",
   "execution_count": null,
   "id": "ed7ddd00",
   "metadata": {},
   "outputs": [],
   "source": [
    "emotions_cut_part3 = emotions_cut[4000:8000]\n",
    "\n",
    "emotions_cut_part3['oneai_res-res'] = emotions_cut_part3.apply(oneai_res,axis=1)\n",
    "emotions_cut_part3['hug1_res'] = emotions_cut_part3.apply(huggingface_res1,axis=1)\n",
    "emotions_cut_part3['hug2_res'] = emotions_cut_part3.apply(huggingface_res2,axis=1)\n",
    "emotions_cut_part3"
   ]
  },
  {
   "cell_type": "code",
   "execution_count": null,
   "id": "3a713bed",
   "metadata": {},
   "outputs": [],
   "source": [
    "emotions_cut_part4 = emotions_cut[8000:8450]\n",
    "\n",
    "emotions_cut_part4['oneai_res-res'] = emotions_cut_part4.apply(oneai_res,axis=1)\n",
    "emotions_cut_part4['hug1_res'] = emotions_cut_part4.apply(huggingface_res1,axis=1)\n",
    "emotions_cut_part4['hug2_res'] = emotions_cut_part4.apply(huggingface_res2,axis=1)\n",
    "emotions_cut_part4"
   ]
  },
  {
   "cell_type": "code",
   "execution_count": null,
   "id": "5da80a2e",
   "metadata": {},
   "outputs": [],
   "source": [
    "emotions_cut_part4_b = emotions_cut[8451:8492]  \n",
    "\n",
    "emotions_cut_part4['oneai_res-res'] = emotions_cut_part4.apply(oneai_res,axis=1)\n",
    "emotions_cut_part4_b['hug1_res'] = emotions_cut_part4_b.apply(huggingface_res1,axis=1)\n",
    "emotions_cut_part4_b['hug2_res'] = emotions_cut_part4_b.apply(huggingface_res2,axis=1)\n",
    "emotions_cut_part4_b"
   ]
  },
  {
   "cell_type": "code",
   "execution_count": null,
   "id": "fbd0c587",
   "metadata": {},
   "outputs": [],
   "source": [
    "emotions_cut_part5 = emotions_cut[8493:10000]\n",
    "\n",
    "emotions_cut_part5['oneai_res-res'] = emotions_cut_part5.apply(oneai_res,axis=1)\n",
    "emotions_cut_part5['hug1_res'] = emotions_cut_part5.apply(huggingface_res1,axis=1)\n",
    "emotions_cut_part5['hug2_res'] = emotions_cut_part5.apply(huggingface_res2,axis=1)\n",
    "emotions_cut_part5"
   ]
  },
  {
   "cell_type": "code",
   "execution_count": null,
   "id": "a4e770cb",
   "metadata": {},
   "outputs": [],
   "source": [
    "emotions_cut_part6 = emotions_cut[10000:14000]\n",
    "\n",
    "emotions_cut_part6['oneai_res-res'] = emotions_cut_part6.apply(oneai_res,axis=1)\n",
    "emotions_cut_part6['hug1_res'] = emotions_cut_part6.apply(huggingface_res1,axis=1)\n",
    "emotions_cut_part6['hug2_res'] = emotions_cut_part6.apply(huggingface_res2,axis=1)\n",
    "emotions_cut_part6"
   ]
  },
  {
   "cell_type": "code",
   "execution_count": null,
   "id": "d4369fa4",
   "metadata": {},
   "outputs": [],
   "source": [
    "emotions_cut_part7 = emotions_cut[14000:18000]\n",
    "\n",
    "emotions_cut_part7['oneai_res-res'] = emotions_cut_part7.apply(oneai_res,axis=1)\n",
    "emotions_cut_part7['hug1_res'] = emotions_cut_part7.apply(huggingface_res1,axis=1)\n",
    "emotions_cut_part7['hug2_res'] = emotions_cut_part7.apply(huggingface_res2,axis=1)\n",
    "emotions_cut_part7"
   ]
  },
  {
   "cell_type": "code",
   "execution_count": null,
   "id": "1844b1a2",
   "metadata": {},
   "outputs": [],
   "source": [
    "emotions_cut_part8 = emotions_cut[18000:]\n",
    "\n",
    "emotions_cut_part8['oneai_res-res'] = emotions_cut_part8.apply(oneai_res,axis=1)\n",
    "emotions_cut_part8['hug1_res'] = emotions_cut_part8.apply(huggingface_res1,axis=1)\n",
    "emotions_cut_part8['hug2_res'] = emotions_cut_part8.apply(huggingface_res2,axis=1)\n",
    "emotions_cut_part8"
   ]
  },
  {
   "cell_type": "code",
   "execution_count": null,
   "id": "a2bcd329",
   "metadata": {},
   "outputs": [],
   "source": [
    "emotions_cut_1_2 = emotions_cut_part1.append(emotions_cut_part2, ignore_index=True)\n",
    "emotions_cut_1_3 = emotions_cut_1_2.append(emotions_cut_part3, ignore_index=True)\n",
    "emotions_cut_1_4 = emotions_cut_1_3.append(emotions_cut_part4, ignore_index=True)\n",
    "emotions_cut_1_4_b = emotions_cut_1_4.append(emotions_cut_part4_b, ignore_index=True)\n",
    "emotions_cut_1_5 = emotions_cut_1_4_b.append(emotions_cut_part5, ignore_index=True)\n",
    "emotions_cut_1_6 = emotions_cut_1_5.append(emotions_cut_part6, ignore_index=True)\n",
    "emotions_cut_1_7 = emotions_cut_1_6.append(emotions_cut_part7, ignore_index=True)\n",
    "emotions_cut_final = emotions_cut_1_7.append(emotions_cut_part8, ignore_index=True)\n",
    "emotions_cut_final"
   ]
  },
  {
   "cell_type": "code",
   "execution_count": null,
   "id": "10979f78",
   "metadata": {},
   "outputs": [],
   "source": [
    "def oneai_res_match(row):\n",
    "    label_lst = row['oneai_res-res']\n",
    "    golden = row['labels']\n",
    "    if type(label_lst) == float: return 'neutral'\n",
    "    if len(label_lst) == 0: return 'neutral'\n",
    "    for i in label_lst:\n",
    "        if i == 'happiness': i='joy'\n",
    "        if i == '': i='neutral'\n",
    "        if(i==golden):\n",
    "            return i\n",
    "    if label_lst[0] == 'happiness':label_lst[0]='joy'\n",
    "    return label_lst[0]\n",
    "\n",
    "\n",
    "emotions_cut_final['oneai-match']=emotions_cut_final.apply(oneai_res_match, axis=1)"
   ]
  },
  {
   "cell_type": "code",
   "execution_count": null,
   "id": "cf955fe9",
   "metadata": {},
   "outputs": [],
   "source": [
    "emotions_cut_final.to_csv('results.csv')"
   ]
  },
  {
   "cell_type": "code",
   "execution_count": null,
   "id": "eeb3df30",
   "metadata": {},
   "outputs": [],
   "source": [
    "def scores(true,predict):\n",
    "    precition_ = precision_score(true, predict)\n",
    "    recall_= recall_score(true, predict)\n",
    "    f1_ = f1_score(true, predict)\n",
    "    score = {'precition':precition_,'recall':recall_,'f1':f1_ }\n",
    "    return score\n",
    "def scores_all(true,predict):\n",
    "    precition_macro = precision_score(true, predict, average='macro', labels=np.unique(true))\n",
    "    precition_micro = precision_score(true, predict, average='micro', labels=np.unique(true))\n",
    "    precition_weighted = precision_score(true, predict, average='weighted', labels=np.unique(true))\n",
    "    recall_macro = recall_score(true, predict, average='macro', labels=np.unique(true))\n",
    "    recall_micro = recall_score(true, predict, average='micro', labels=np.unique(true))\n",
    "    recall_weighted = recall_score(true, predict, average='weighted', labels=np.unique(true))\n",
    "    f1_macro = f1_score(true, predict, average='macro', labels=np.unique(true))\n",
    "    f1_micro = f1_score(true, predict, average='micro', labels=np.unique(true))\n",
    "    f1_weighted = f1_score(true, predict, average='weighted', labels=np.unique(true))\n",
    "    score = {'macro':{'precition':precition_macro,'recall':recall_macro,'f1':f1_macro},\n",
    "            'micro':{'precition':precition_micro,'recall':recall_micro,'f1':f1_micro},\n",
    "            'weighted':{'precition':precition_weighted,'recall':recall_weighted,'f1':f1_weighted},}\n",
    "    return score\n"
   ]
  },
  {
   "cell_type": "code",
   "execution_count": null,
   "id": "cdd5034c",
   "metadata": {},
   "outputs": [],
   "source": [
    "labels = list(emotions_cut_final['labels'])\n",
    "oneai_predict = list(emotions_cut_final['oneai-match'])\n",
    "hug1_predict = list(emotions_cut_final['hug1_res'])\n",
    "hug2_predict = list(emotions_cut_final['hug2_res'])\n",
    "oneai_socres = scores_all(labels,oneai_predict)\n",
    "hug1_socres = scores_all(labels,hug1_predict)\n",
    "hug2_socres = scores_all(labels,hug2_predict)\n",
    "socre_dict ={'oneai_socres':oneai_socres,'hug1_socres':hug1_socres,'hug2_socres':hug2_socres}\n",
    "socre_df = pd.DataFrame.from_dict(socre_dict)\n",
    "socre_df.to_csv('all_socre.csv')"
   ]
  },
  {
   "cell_type": "code",
   "execution_count": null,
   "id": "55aa0145",
   "metadata": {},
   "outputs": [],
   "source": [
    "true = list(emotions_cut_final['labels']=='neutral')\n",
    "predict_oneai = list(emotions_cut_final['oneai-match']=='neutral')\n",
    "predict_hug1 = list(emotions_cut_final['hug1_res']=='neutral')\n",
    "predict_hug2 = list(emotions_cut_final['hug2_res']=='neutral')\n",
    "score_oneai = scores(true,predict_oneai)\n",
    "score_hug1 = scores(true,predict_hug1)\n",
    "score_hug2 = scores(true,predict_hug2)\n",
    "\n",
    "neutral_score = {'oneai':score_oneai,'hug1':score_hug1,'hug2':score_hug2}\n",
    "neutral_df = pd.DataFrame.from_dict(neutral_score)\n",
    "neutral_df.to_csv('neutral_socre.csv')"
   ]
  },
  {
   "cell_type": "code",
   "execution_count": null,
   "id": "da50973a",
   "metadata": {},
   "outputs": [],
   "source": [
    "true = list(emotions_cut_final['labels']=='anger')\n",
    "predict_oneai = list(emotions_cut_final['oneai-match']=='anger')\n",
    "predict_hug1 = list(emotions_cut_final['hug1_res']=='anger')\n",
    "predict_hug2 = list(emotions_cut_final['hug2_res']=='anger')\n",
    "score_oneai = scores(true,predict_oneai)\n",
    "score_hug1 = scores(true,predict_hug1)\n",
    "score_hug2 = scores(true,predict_hug2)\n",
    "\n",
    "anger_score = {'oneai':score_oneai,'hug1':score_hug1,'hug2':score_hug2}\n",
    "anger_df = pd.DataFrame.from_dict(anger_score)\n",
    "anger_df.to_csv('anger_socre.csv')"
   ]
  },
  {
   "cell_type": "code",
   "execution_count": null,
   "id": "1b71f6fd",
   "metadata": {},
   "outputs": [],
   "source": [
    "true = list(emotions_cut_final['labels']=='joy')\n",
    "predict_oneai = list(emotions_cut_final['oneai-match']=='joy')\n",
    "predict_hug1 = list(emotions_cut_final['hug1_res']=='joy')\n",
    "predict_hug2 = list(emotions_cut_final['hug2_res']=='joy')\n",
    "score_oneai = scores(true,predict_oneai)\n",
    "score_hug1 = scores(true,predict_hug1)\n",
    "score_hug2 = scores(true,predict_hug2)\n",
    "\n",
    "joy_score = {'oneai':score_oneai,'hug1':score_hug1,'hug2':score_hug2}\n",
    "\n",
    "joy_score = {'oneai':score_oneai,'hug1':score_hug1,'hug2':score_hug2}\n",
    "joy_df = pd.DataFrame.from_dict(joy_score)\n",
    "joy_df.to_csv('joy_socre.csv')"
   ]
  },
  {
   "cell_type": "code",
   "execution_count": null,
   "id": "5474bc8d",
   "metadata": {},
   "outputs": [],
   "source": [
    "true = list(emotions_cut_final['labels']=='surprise')\n",
    "predict_oneai = list(emotions_cut_final['oneai-match']=='surprise')\n",
    "predict_hug1 = list(emotions_cut_final['hug1_res']=='surprise')\n",
    "predict_hug2 = list(emotions_cut_final['hug2_res']=='surprise')\n",
    "score_oneai = scores(true,predict_oneai)\n",
    "score_hug1 = scores(true,predict_hug1)\n",
    "score_hug2 = scores(true,predict_hug2)\n",
    "\n",
    "surprise_score = {'oneai':score_oneai,'hug1':score_hug1,'hug2':score_hug2}\n",
    "\n",
    "surprise_score = {'oneai':score_oneai,'hug1':score_hug1,'hug2':score_hug2}\n",
    "surprise_df = pd.DataFrame.from_dict(surprise_score)\n",
    "surprise_df.to_csv('surprise_socre.csv')"
   ]
  },
  {
   "cell_type": "code",
   "execution_count": null,
   "id": "c41d1a9b",
   "metadata": {},
   "outputs": [],
   "source": [
    "true = list(emotions_cut_final['labels']=='sadness')\n",
    "predict_oneai = list(emotions_cut_final['oneai-match']=='sadness')\n",
    "predict_hug1 = list(emotions_cut_final['hug1_res']=='sadness')\n",
    "predict_hug2 = list(emotions_cut_final['hug2_res']=='sadness')\n",
    "score_oneai = scores(true,predict_oneai)\n",
    "score_hug1 = scores(true,predict_hug1)\n",
    "score_hug2 = scores(true,predict_hug2)\n",
    "\n",
    "sadness_score = {'oneai':score_oneai,'hug1':score_hug1,'hug2':score_hug2}\n",
    "\n",
    "sadness_score = {'oneai':score_oneai,'hug1':score_hug1,'hug2':score_hug2}\n",
    "sadness_df = pd.DataFrame.from_dict(sadness_score)\n",
    "sadness_df.to_csv('sadness_socre.csv')"
   ]
  }
 ],
 "metadata": {
  "kernelspec": {
   "display_name": "Python 3 (ipykernel)",
   "language": "python",
   "name": "python3"
  },
  "language_info": {
   "codemirror_mode": {
    "name": "ipython",
    "version": 3
   },
   "file_extension": ".py",
   "mimetype": "text/x-python",
   "name": "python",
   "nbconvert_exporter": "python",
   "pygments_lexer": "ipython3",
   "version": "3.9.12"
  }
 },
 "nbformat": 4,
 "nbformat_minor": 5
}
